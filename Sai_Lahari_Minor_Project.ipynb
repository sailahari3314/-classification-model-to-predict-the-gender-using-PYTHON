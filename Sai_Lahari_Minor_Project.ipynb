{
 "cells": [
  {
   "cell_type": "code",
   "execution_count": 1,
   "metadata": {},
   "outputs": [],
   "source": [
    "import pandas as pd\n",
    "# import numpy as np\n",
    "import matplotlib.pyplot as plt\n",
    "from sklearn.metrics import r2_score\n",
    "from sklearn.model_selection import train_test_split\n",
    "from sklearn.neighbors import KNeighborsClassifier\n",
    "from sklearn.tree import DecisionTreeClassifier\n",
    "from sklearn.linear_model import LogisticRegression\n",
    "import sklearn\n",
    "from sklearn.svm import SVC"
   ]
  },
  {
   "cell_type": "code",
   "execution_count": 2,
   "metadata": {},
   "outputs": [],
   "source": [
    "data = pd.read_csv('voice.csv')\n"
   ]
  },
  {
   "cell_type": "code",
   "execution_count": 3,
   "metadata": {},
   "outputs": [
    {
     "data": {
      "text/plain": [
       "(3168, 21)"
      ]
     },
     "execution_count": 3,
     "metadata": {},
     "output_type": "execute_result"
    }
   ],
   "source": [
    "data.shape\n"
   ]
  },
  {
   "cell_type": "code",
   "execution_count": 4,
   "metadata": {},
   "outputs": [
    {
     "data": {
      "text/plain": [
       "meanfreq    0\n",
       "sd          0\n",
       "median      0\n",
       "Q25         0\n",
       "Q75         0\n",
       "IQR         0\n",
       "skew        0\n",
       "kurt        0\n",
       "sp.ent      0\n",
       "sfm         0\n",
       "mode        0\n",
       "centroid    0\n",
       "meanfun     0\n",
       "minfun      0\n",
       "maxfun      0\n",
       "meandom     0\n",
       "mindom      0\n",
       "maxdom      0\n",
       "dfrange     0\n",
       "modindx     0\n",
       "label       0\n",
       "dtype: int64"
      ]
     },
     "execution_count": 4,
     "metadata": {},
     "output_type": "execute_result"
    }
   ],
   "source": [
    "data.isnull().sum()\n"
   ]
  },
  {
   "cell_type": "code",
   "execution_count": 5,
   "metadata": {},
   "outputs": [
    {
     "name": "stdout",
     "output_type": "stream",
     "text": [
      "Populating the interactive namespace from numpy and matplotlib\n"
     ]
    }
   ],
   "source": [
    "import numpy as np\n",
    "from matplotlib import pyplot as py\n",
    "\n",
    "%pylab inline"
   ]
  },
  {
   "cell_type": "code",
   "execution_count": 6,
   "metadata": {},
   "outputs": [],
   "source": [
    "my_labels = ('male', 'female')"
   ]
  },
  {
   "cell_type": "code",
   "execution_count": 7,
   "metadata": {
    "scrolled": true
   },
   "outputs": [
    {
     "data": {
      "text/plain": [
       "<matplotlib.legend.Legend at 0x237ee353358>"
      ]
     },
     "execution_count": 7,
     "metadata": {},
     "output_type": "execute_result"
    },
    {
     "data": {
      "image/png": "[encoded data removed]",
      "text/plain": [
       "<Figure size 360x360 with 1 Axes>"
      ]
     },
     "metadata": {},
     "output_type": "display_data"
    }
   ],
   "source": [
    "ax = data['label'].value_counts().plot(kind='pie', figsize=(5,5), labels=None)\n",
    "ax.axes.get_yaxis().set_visible(False)\n",
    "plt.legend(loc=5, labels=my_labels)"
   ]
  },
  {
   "cell_type": "code",
   "execution_count": 8,
   "metadata": {},
   "outputs": [],
   "source": [
    "y=[]\n",
    "for i in range(len(data.label)):\n",
    "    if data.label[i] =='male':\n",
    "        y.append(1)\n",
    "    else:\n",
    "        y.append(0)\n",
    "x = data.drop([\"label\"], axis=1)"
   ]
  },
  {
   "cell_type": "code",
   "execution_count": 9,
   "metadata": {},
   "outputs": [],
   "source": [
    "X_train, X_test, y_train, y_test = train_test_split(x, y, test_size=0.20, random_state = 0)"
   ]
  },
  {
   "cell_type": "code",
   "execution_count": 10,
   "metadata": {},
   "outputs": [],
   "source": [
    "from sklearn.preprocessing import StandardScaler\n",
    "stdSc = StandardScaler()"
   ]
  },
  {
   "cell_type": "code",
   "execution_count": 11,
   "metadata": {},
   "outputs": [],
   "source": [
    "X_train = stdSc.fit_transform(X_train)\n",
    "X_test = stdSc.fit_transform(X_test)"
   ]
  },
  {
   "cell_type": "code",
   "execution_count": 12,
   "metadata": {},
   "outputs": [
    {
     "name": "stdout",
     "output_type": "stream",
     "text": [
      "Using Decision tree classifier:\n",
      "Accuracy of training set: 1.00\n",
      "Accuracy of test set: 0.96\n"
     ]
    }
   ],
   "source": [
    "#a. Desicion Tree Algorithm\n",
    "from sklearn.tree import DecisionTreeClassifier\n",
    "classifierDT = DecisionTreeClassifier(criterion = 'entropy')\n",
    "classifierDT.fit(X_train, y_train)\n",
    "y_pred = classifierDT.predict(X_test)\n",
    "y_pred.shape\n",
    "#y_test= y_test.T.reshape(792,1)\n",
    "print('Using Decision tree classifier:')\n",
    "print('Accuracy of training set: {:.2f}'.format(classifierDT.score(X_train,y_train)))\n",
    "print('Accuracy of test set: {:.2f}'.format(classifierDT.score(X_test,y_test)))"
   ]
  },
  {
   "cell_type": "code",
   "execution_count": 13,
   "metadata": {},
   "outputs": [
    {
     "data": {
      "image/png": "[encoded data removed]",
      "text/plain": [
       "<Figure size 504x504 with 2 Axes>"
      ]
     },
     "metadata": {
      "needs_background": "light"
     },
     "output_type": "display_data"
    }
   ],
   "source": [
    "import seaborn as sns\n",
    "conf_matrix =sklearn.metrics.confusion_matrix(y_test, y_pred)\n",
    "f,ax = plt.subplots(figsize=(7,7))\n",
    "sns.heatmap(conf_matrix,annot=True,linewidths=0.5,linecolor=\"white\",fmt=\".0f\",ax=ax)\n",
    "plt.xlabel(\"y_test\")\n",
    "plt.ylabel(\"predict\")\n",
    "plt.show()"
   ]
  },
  {
   "cell_type": "code",
   "execution_count": 14,
   "metadata": {},
   "outputs": [
    {
     "name": "stdout",
     "output_type": "stream",
     "text": [
      "     Classifiction report of Decision Tree model\n",
      "------------------------------------------------------\n",
      "              precision    recall  f1-score   support\n",
      "\n",
      "           0       0.96      0.95      0.96       301\n",
      "           1       0.96      0.96      0.96       333\n",
      "\n",
      "   micro avg       0.96      0.96      0.96       634\n",
      "   macro avg       0.96      0.96      0.96       634\n",
      "weighted avg       0.96      0.96      0.96       634\n",
      "\n"
     ]
    }
   ],
   "source": [
    "print('     Classifiction report of Decision Tree model')\n",
    "print('------------------------------------------------------')\n",
    "print(sklearn.metrics.classification_report(y_test,y_pred))"
   ]
  },
  {
   "cell_type": "code",
   "execution_count": 15,
   "metadata": {},
   "outputs": [
    {
     "name": "stdout",
     "output_type": "stream",
     "text": [
      "ACCURACY OF THE Random Forest MODEL:  0.9842271293375394\n"
     ]
    }
   ],
   "source": [
    "#b. Random Forest algorithm\n",
    "from sklearn.ensemble import RandomForestClassifier\n",
    "from sklearn.metrics import accuracy_score\n",
    "classifierDT = RandomForestClassifier(n_estimators = 100)\n",
    "classifierDT.fit(X_train, y_train)\n",
    "y_pred = classifierDT.predict(X_test)\n",
    "print(\"ACCURACY OF THE Random Forest MODEL: \", accuracy_score(y_test, y_pred))\n"
   ]
  },
  {
   "cell_type": "code",
   "execution_count": 16,
   "metadata": {},
   "outputs": [
    {
     "data": {
      "image/png": "[encoded data removed]",
      "text/plain": [
       "<Figure size 504x504 with 2 Axes>"
      ]
     },
     "metadata": {
      "needs_background": "light"
     },
     "output_type": "display_data"
    }
   ],
   "source": [
    "conf_matrix =sklearn.metrics.confusion_matrix(y_test, y_pred)\n",
    "f,ax = plt.subplots(figsize=(7,7))\n",
    "sns.heatmap(conf_matrix,annot=True,linewidths=0.5,linecolor=\"white\",fmt=\".0f\",ax=ax)\n",
    "plt.xlabel(\"y_test\")\n",
    "plt.ylabel(\"predict\")\n",
    "plt.show()"
   ]
  },
  {
   "cell_type": "code",
   "execution_count": 17,
   "metadata": {},
   "outputs": [
    {
     "name": "stdout",
     "output_type": "stream",
     "text": [
      "     Classifiction report of Random Forest model\n",
      "------------------------------------------------------\n",
      "              precision    recall  f1-score   support\n",
      "\n",
      "           0       0.98      0.99      0.98       301\n",
      "           1       0.99      0.98      0.98       333\n",
      "\n",
      "   micro avg       0.98      0.98      0.98       634\n",
      "   macro avg       0.98      0.98      0.98       634\n",
      "weighted avg       0.98      0.98      0.98       634\n",
      "\n"
     ]
    }
   ],
   "source": [
    "print('     Classifiction report of Random Forest model')\n",
    "print('------------------------------------------------------')\n",
    "print(sklearn.metrics.classification_report(y_test,y_pred))"
   ]
  },
  {
   "cell_type": "code",
   "execution_count": 18,
   "metadata": {},
   "outputs": [
    {
     "name": "stdout",
     "output_type": "stream",
     "text": [
      "KNN accuracy (k=1): 0.9684542586750788\n",
      "KNN accuracy (k=3): 0.9716088328075709\n",
      "KNN accuracy (k=5): 0.9747634069400631\n",
      "KNN accuracy (k=7): 0.973186119873817\n",
      "KNN accuracy (k=9): 0.973186119873817\n"
     ]
    }
   ],
   "source": [
    "#c. knn algorithm\n",
    "from sklearn.metrics import accuracy_score\n",
    "for i in range(1,10,2):\n",
    "    knn = KNeighborsClassifier(n_neighbors = i)\n",
    "    knn.fit(X_train, y_train)\n",
    "    print(\"KNN accuracy (k={}): {}\".format(i, accuracy_score(knn.predict(X_test),y_test)))"
   ]
  },
  {
   "cell_type": "code",
   "execution_count": 19,
   "metadata": {},
   "outputs": [
    {
     "data": {
      "image/png": "[encoded data removed]",
      "text/plain": [
       "<Figure size 504x504 with 2 Axes>"
      ]
     },
     "metadata": {
      "needs_background": "light"
     },
     "output_type": "display_data"
    }
   ],
   "source": [
    "knn = KNeighborsClassifier(n_neighbors = 5) # found that at k = 5, it got better accuracy\n",
    "knn.fit(X_train,y_train)\n",
    "y_pred = knn.predict(X_test)\n",
    "conf_matrix =sklearn.metrics.confusion_matrix(y_test, y_pred)\n",
    "f,ax = plt.subplots(figsize=(7,7))\n",
    "sns.heatmap(conf_matrix,annot=True,linewidths=0.5,linecolor=\"white\",fmt=\".0f\",ax=ax)\n",
    "plt.xlabel(\"y_test\")\n",
    "plt.ylabel(\"predict\")\n",
    "plt.show()"
   ]
  },
  {
   "cell_type": "code",
   "execution_count": 20,
   "metadata": {},
   "outputs": [
    {
     "name": "stdout",
     "output_type": "stream",
     "text": [
      "      Classifiction report of KNN algorithm model\n",
      "------------------------------------------------------\n",
      "              precision    recall  f1-score   support\n",
      "\n",
      "           0       0.98      0.97      0.97       301\n",
      "           1       0.97      0.98      0.98       333\n",
      "\n",
      "   micro avg       0.97      0.97      0.97       634\n",
      "   macro avg       0.97      0.97      0.97       634\n",
      "weighted avg       0.97      0.97      0.97       634\n",
      "\n"
     ]
    }
   ],
   "source": [
    "print('      Classifiction report of KNN algorithm model')\n",
    "print('------------------------------------------------------')\n",
    "print(sklearn.metrics.classification_report(y_test,y_pred))"
   ]
  },
  {
   "cell_type": "code",
   "execution_count": 21,
   "metadata": {},
   "outputs": [
    {
     "name": "stdout",
     "output_type": "stream",
     "text": [
      "Accuracy of Logistic Regression model 0.9794952681388013\n"
     ]
    }
   ],
   "source": [
    "#d. Logistic Regression \n",
    "import warnings\n",
    "\n",
    "warnings.filterwarnings(\"ignore\")\n",
    "lr = LogisticRegression()\n",
    "lr.fit(X_train,y_train)\n",
    "y_pred = lr.predict(X_test)\n",
    "print(\"Accuracy of Logistic Regression model {}\".format(lr.score(X_test,y_test)))"
   ]
  },
  {
   "cell_type": "code",
   "execution_count": 22,
   "metadata": {},
   "outputs": [
    {
     "data": {
      "image/png": "[encoded data removed]",
      "text/plain": [
       "<Figure size 504x504 with 2 Axes>"
      ]
     },
     "metadata": {
      "needs_background": "light"
     },
     "output_type": "display_data"
    }
   ],
   "source": [
    "conf_matrix =sklearn.metrics.confusion_matrix(y_test, y_pred)\n",
    "f,ax = plt.subplots(figsize=(7,7))\n",
    "sns.heatmap(conf_matrix,annot=True,linewidths=0.5,linecolor=\"white\",fmt=\".0f\",ax=ax)\n",
    "plt.xlabel(\"y_test\")\n",
    "plt.ylabel(\"predict\")\n",
    "plt.show()"
   ]
  },
  {
   "cell_type": "code",
   "execution_count": 23,
   "metadata": {},
   "outputs": [
    {
     "name": "stdout",
     "output_type": "stream",
     "text": [
      "    Classifiction report of Logistic regression\n",
      "------------------------------------------------------\n",
      "              precision    recall  f1-score   support\n",
      "\n",
      "           0       0.98      0.97      0.98       301\n",
      "           1       0.98      0.98      0.98       333\n",
      "\n",
      "   micro avg       0.98      0.98      0.98       634\n",
      "   macro avg       0.98      0.98      0.98       634\n",
      "weighted avg       0.98      0.98      0.98       634\n",
      "\n"
     ]
    }
   ],
   "source": [
    "print('    Classifiction report of Logistic regression')\n",
    "print('------------------------------------------------------')\n",
    "print(sklearn.metrics.classification_report(y_test,y_pred))"
   ]
  },
  {
   "cell_type": "code",
   "execution_count": 24,
   "metadata": {},
   "outputs": [
    {
     "name": "stdout",
     "output_type": "stream",
     "text": [
      "Using SVM classifier:\n",
      "Accuracy of training set: 0.985\n",
      "Accuracy of test set: 0.984\n"
     ]
    }
   ],
   "source": [
    "#e. SVM classifier model\n",
    "classifier = SVC(kernel = 'rbf')\n",
    "classifier.fit(X_train, y_train)\n",
    "y_pred = classifier.predict(X_test)\n",
    "print('Using SVM classifier:')\n",
    "print('Accuracy of training set: {:.3f}'.format(classifier.score(X_train,y_train)))\n",
    "print('Accuracy of test set: {:.3f}'.format(classifier.score(X_test,y_test)))"
   ]
  },
  {
   "cell_type": "code",
   "execution_count": 25,
   "metadata": {},
   "outputs": [
    {
     "data": {
      "image/png": "[encoded data removed]",
      "text/plain": [
       "<Figure size 504x504 with 2 Axes>"
      ]
     },
     "metadata": {
      "needs_background": "light"
     },
     "output_type": "display_data"
    }
   ],
   "source": [
    "conf_matrix =sklearn.metrics.confusion_matrix(y_test, y_pred)\n",
    "f,ax = plt.subplots(figsize=(7,7))\n",
    "sns.heatmap(conf_matrix,annot=True,linewidths=0.5,linecolor=\"white\",fmt=\".0f\",ax=ax)\n",
    "plt.xlabel(\"y_test\")\n",
    "plt.ylabel(\"predict\")\n",
    "plt.show()"
   ]
  },
  {
   "cell_type": "code",
   "execution_count": 26,
   "metadata": {},
   "outputs": [
    {
     "name": "stdout",
     "output_type": "stream",
     "text": [
      "     Classifiction report of SVM Classifier model\n",
      "------------------------------------------------------\n",
      "              precision    recall  f1-score   support\n",
      "\n",
      "           0       0.97      0.99      0.98       301\n",
      "           1       0.99      0.98      0.98       333\n",
      "\n",
      "   micro avg       0.98      0.98      0.98       634\n",
      "   macro avg       0.98      0.98      0.98       634\n",
      "weighted avg       0.98      0.98      0.98       634\n",
      "\n"
     ]
    }
   ],
   "source": [
    "print('     Classifiction report of SVM Classifier model')\n",
    "print('------------------------------------------------------')\n",
    "print(sklearn.metrics.classification_report(y_test,y_pred))"
   ]
  },
  {
   "cell_type": "code",
   "execution_count": null,
   "metadata": {},
   "outputs": [],
   "source": []
  }
 ],
 "metadata": {
  "kernelspec": {
   "display_name": "Python 3",
   "language": "python",
   "name": "python3"
  },
  "language_info": {
   "codemirror_mode": {
    "name": "ipython",
    "version": 3
   },
   "file_extension": ".py",
   "mimetype": "text/x-python",
   "name": "python",
   "nbconvert_exporter": "python",
   "pygments_lexer": "ipython3",
   "version": "3.7.3"
  }
 },
 "nbformat": 4,
 "nbformat_minor": 2
}
